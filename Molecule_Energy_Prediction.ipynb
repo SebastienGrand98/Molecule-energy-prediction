{
 "cells": [
  {
   "cell_type": "markdown",
   "id": "4a4461a1",
   "metadata": {},
   "source": [
    "# Predition de l'energie des molécules"
   ]
  },
  {
   "cell_type": "code",
   "execution_count": null,
   "id": "2bf3b5e3",
   "metadata": {},
   "outputs": [],
   "source": [
    "#### imporation des librairies"
   ]
  },
  {
   "cell_type": "code",
   "execution_count": 25,
   "id": "08802937",
   "metadata": {},
   "outputs": [],
   "source": [
    "import pandas as pd\n",
    "import numpy as np\n",
    "# ase est une librairie pour lire les fichiers .xyz (souvent utilisé pour representer des atomes.) site : https://wiki.fysik.dtu.dk/\n",
    "from ase.io.xyz import read_xyz\n",
    "from ase.io import read\n",
    "from ase.visualize import view\n",
    "import os "
   ]
  },
  {
   "cell_type": "markdown",
   "id": "7343eb63",
   "metadata": {},
   "source": [
    "### Chargement des données "
   ]
  },
  {
   "cell_type": "markdown",
   "id": "b1e58d48",
   "metadata": {},
   "source": [
    "#### Comment lire un fichier .xyz et quelques foncition utiles"
   ]
  },
  {
   "cell_type": "code",
   "execution_count": 29,
   "id": "476922d4",
   "metadata": {},
   "outputs": [],
   "source": [
    "test = read(\"./train/atoms/train/id_1.xyz\")"
   ]
  },
  {
   "cell_type": "code",
   "execution_count": 44,
   "id": "09c45c3e",
   "metadata": {},
   "outputs": [
    {
     "data": {
      "text/html": [
       "<html>\n",
       "\n",
       " <head>\n",
       "\n",
       "  <title>ASE atomic visualization</title>\n",
       "\n",
       "  <link rel=\"stylesheet\" type=\"text/css\"\n",
       "\n",
       "   href=\"https://www.x3dom.org/x3dom/release/x3dom.css\">\n",
       "\n",
       "  </link>\n",
       "\n",
       "  <script type=\"text/javascript\"\n",
       "\n",
       "   src=\"https://www.x3dom.org/x3dom/release/x3dom.js\">\n",
       "\n",
       "  </script>\n",
       "\n",
       " </head>\n",
       "\n",
       " <body>\n",
       "\n",
       "  <X3D>\n",
       "\n",
       "   <Scene>\n",
       "\n",
       "    <Transform translation=\"0.86 1.77 1.94\">\n",
       "\n",
       "     <Shape>\n",
       "\n",
       "      <Appearance>\n",
       "\n",
       "       <Material diffuseColor=\"0.188 0.314 0.973\" specularColor=\"0.5 0.5 0.5\">\n",
       "\n",
       "       </Material>\n",
       "\n",
       "      </Appearance>\n",
       "\n",
       "      <Sphere radius=\"0.71\">\n",
       "\n",
       "      </Sphere>\n",
       "\n",
       "     </Shape>\n",
       "\n",
       "    </Transform>\n",
       "\n",
       "    <Transform translation=\"0.10 0.53 1.76\">\n",
       "\n",
       "     <Shape>\n",
       "\n",
       "      <Appearance>\n",
       "\n",
       "       <Material diffuseColor=\"0.565 0.565 0.565\" specularColor=\"0.5 0.5 0.5\">\n",
       "\n",
       "       </Material>\n",
       "\n",
       "      </Appearance>\n",
       "\n",
       "      <Sphere radius=\"0.76\">\n",
       "\n",
       "      </Sphere>\n",
       "\n",
       "     </Shape>\n",
       "\n",
       "    </Transform>\n",
       "\n",
       "    <Transform translation=\"-0.23 0.29 0.29\">\n",
       "\n",
       "     <Shape>\n",
       "\n",
       "      <Appearance>\n",
       "\n",
       "       <Material diffuseColor=\"0.565 0.565 0.565\" specularColor=\"0.5 0.5 0.5\">\n",
       "\n",
       "       </Material>\n",
       "\n",
       "      </Appearance>\n",
       "\n",
       "      <Sphere radius=\"0.76\">\n",
       "\n",
       "      </Sphere>\n",
       "\n",
       "     </Shape>\n",
       "\n",
       "    </Transform>\n",
       "\n",
       "    <Transform translation=\"0.74 -0.38 -0.63\">\n",
       "\n",
       "     <Shape>\n",
       "\n",
       "      <Appearance>\n",
       "\n",
       "       <Material diffuseColor=\"0.565 0.565 0.565\" specularColor=\"0.5 0.5 0.5\">\n",
       "\n",
       "       </Material>\n",
       "\n",
       "      </Appearance>\n",
       "\n",
       "      <Sphere radius=\"0.76\">\n",
       "\n",
       "      </Sphere>\n",
       "\n",
       "     </Shape>\n",
       "\n",
       "    </Transform>\n",
       "\n",
       "    <Transform translation=\"-0.52 -1.11 -0.20\">\n",
       "\n",
       "     <Shape>\n",
       "\n",
       "      <Appearance>\n",
       "\n",
       "       <Material diffuseColor=\"0.565 0.565 0.565\" specularColor=\"0.5 0.5 0.5\">\n",
       "\n",
       "       </Material>\n",
       "\n",
       "      </Appearance>\n",
       "\n",
       "      <Sphere radius=\"0.76\">\n",
       "\n",
       "      </Sphere>\n",
       "\n",
       "     </Shape>\n",
       "\n",
       "    </Transform>\n",
       "\n",
       "    <Transform translation=\"-1.66 -1.37 -1.17\">\n",
       "\n",
       "     <Shape>\n",
       "\n",
       "      <Appearance>\n",
       "\n",
       "       <Material diffuseColor=\"0.565 0.565 0.565\" specularColor=\"0.5 0.5 0.5\">\n",
       "\n",
       "       </Material>\n",
       "\n",
       "      </Appearance>\n",
       "\n",
       "      <Sphere radius=\"0.76\">\n",
       "\n",
       "      </Sphere>\n",
       "\n",
       "     </Shape>\n",
       "\n",
       "    </Transform>\n",
       "\n",
       "    <Transform translation=\"0.92 0.13 -1.98\">\n",
       "\n",
       "     <Shape>\n",
       "\n",
       "      <Appearance>\n",
       "\n",
       "       <Material diffuseColor=\"0.188 0.314 0.973\" specularColor=\"0.5 0.5 0.5\">\n",
       "\n",
       "       </Material>\n",
       "\n",
       "      </Appearance>\n",
       "\n",
       "      <Sphere radius=\"0.71\">\n",
       "\n",
       "      </Sphere>\n",
       "\n",
       "     </Shape>\n",
       "\n",
       "    </Transform>\n",
       "\n",
       "    <Transform translation=\"1.02 1.94 2.93\">\n",
       "\n",
       "     <Shape>\n",
       "\n",
       "      <Appearance>\n",
       "\n",
       "       <Material diffuseColor=\"1.000 1.000 1.000\" specularColor=\"0.5 0.5 0.5\">\n",
       "\n",
       "       </Material>\n",
       "\n",
       "      </Appearance>\n",
       "\n",
       "      <Sphere radius=\"0.31\">\n",
       "\n",
       "      </Sphere>\n",
       "\n",
       "     </Shape>\n",
       "\n",
       "    </Transform>\n",
       "\n",
       "    <Transform translation=\"0.35 2.56 1.55\">\n",
       "\n",
       "     <Shape>\n",
       "\n",
       "      <Appearance>\n",
       "\n",
       "       <Material diffuseColor=\"1.000 1.000 1.000\" specularColor=\"0.5 0.5 0.5\">\n",
       "\n",
       "       </Material>\n",
       "\n",
       "      </Appearance>\n",
       "\n",
       "      <Sphere radius=\"0.31\">\n",
       "\n",
       "      </Sphere>\n",
       "\n",
       "     </Shape>\n",
       "\n",
       "    </Transform>\n",
       "\n",
       "    <Transform translation=\"-0.84 0.53 2.35\">\n",
       "\n",
       "     <Shape>\n",
       "\n",
       "      <Appearance>\n",
       "\n",
       "       <Material diffuseColor=\"1.000 1.000 1.000\" specularColor=\"0.5 0.5 0.5\">\n",
       "\n",
       "       </Material>\n",
       "\n",
       "      </Appearance>\n",
       "\n",
       "      <Sphere radius=\"0.31\">\n",
       "\n",
       "      </Sphere>\n",
       "\n",
       "     </Shape>\n",
       "\n",
       "    </Transform>\n",
       "\n",
       "    <Transform translation=\"0.70 -0.31 2.14\">\n",
       "\n",
       "     <Shape>\n",
       "\n",
       "      <Appearance>\n",
       "\n",
       "       <Material diffuseColor=\"1.000 1.000 1.000\" specularColor=\"0.5 0.5 0.5\">\n",
       "\n",
       "       </Material>\n",
       "\n",
       "      </Appearance>\n",
       "\n",
       "      <Sphere radius=\"0.31\">\n",
       "\n",
       "      </Sphere>\n",
       "\n",
       "     </Shape>\n",
       "\n",
       "    </Transform>\n",
       "\n",
       "    <Transform translation=\"-0.84 1.08 -0.16\">\n",
       "\n",
       "     <Shape>\n",
       "\n",
       "      <Appearance>\n",
       "\n",
       "       <Material diffuseColor=\"1.000 1.000 1.000\" specularColor=\"0.5 0.5 0.5\">\n",
       "\n",
       "       </Material>\n",
       "\n",
       "      </Appearance>\n",
       "\n",
       "      <Sphere radius=\"0.31\">\n",
       "\n",
       "      </Sphere>\n",
       "\n",
       "     </Shape>\n",
       "\n",
       "    </Transform>\n",
       "\n",
       "    <Transform translation=\"1.68 -0.73 -0.18\">\n",
       "\n",
       "     <Shape>\n",
       "\n",
       "      <Appearance>\n",
       "\n",
       "       <Material diffuseColor=\"1.000 1.000 1.000\" specularColor=\"0.5 0.5 0.5\">\n",
       "\n",
       "       </Material>\n",
       "\n",
       "      </Appearance>\n",
       "\n",
       "      <Sphere radius=\"0.31\">\n",
       "\n",
       "      </Sphere>\n",
       "\n",
       "     </Shape>\n",
       "\n",
       "    </Transform>\n",
       "\n",
       "    <Transform translation=\"-0.38 -1.90 0.53\">\n",
       "\n",
       "     <Shape>\n",
       "\n",
       "      <Appearance>\n",
       "\n",
       "       <Material diffuseColor=\"1.000 1.000 1.000\" specularColor=\"0.5 0.5 0.5\">\n",
       "\n",
       "       </Material>\n",
       "\n",
       "      </Appearance>\n",
       "\n",
       "      <Sphere radius=\"0.31\">\n",
       "\n",
       "      </Sphere>\n",
       "\n",
       "     </Shape>\n",
       "\n",
       "    </Transform>\n",
       "\n",
       "    <Transform translation=\"-1.74 -0.57 -1.90\">\n",
       "\n",
       "     <Shape>\n",
       "\n",
       "      <Appearance>\n",
       "\n",
       "       <Material diffuseColor=\"1.000 1.000 1.000\" specularColor=\"0.5 0.5 0.5\">\n",
       "\n",
       "       </Material>\n",
       "\n",
       "      </Appearance>\n",
       "\n",
       "      <Sphere radius=\"0.31\">\n",
       "\n",
       "      </Sphere>\n",
       "\n",
       "     </Shape>\n",
       "\n",
       "    </Transform>\n",
       "\n",
       "    <Transform translation=\"-2.61 -1.44 -0.65\">\n",
       "\n",
       "     <Shape>\n",
       "\n",
       "      <Appearance>\n",
       "\n",
       "       <Material diffuseColor=\"1.000 1.000 1.000\" specularColor=\"0.5 0.5 0.5\">\n",
       "\n",
       "       </Material>\n",
       "\n",
       "      </Appearance>\n",
       "\n",
       "      <Sphere radius=\"0.31\">\n",
       "\n",
       "      </Sphere>\n",
       "\n",
       "     </Shape>\n",
       "\n",
       "    </Transform>\n",
       "\n",
       "    <Transform translation=\"-1.51 -2.30 -1.71\">\n",
       "\n",
       "     <Shape>\n",
       "\n",
       "      <Appearance>\n",
       "\n",
       "       <Material diffuseColor=\"1.000 1.000 1.000\" specularColor=\"0.5 0.5 0.5\">\n",
       "\n",
       "       </Material>\n",
       "\n",
       "      </Appearance>\n",
       "\n",
       "      <Sphere radius=\"0.31\">\n",
       "\n",
       "      </Sphere>\n",
       "\n",
       "     </Shape>\n",
       "\n",
       "    </Transform>\n",
       "\n",
       "    <Transform translation=\"0.10 0.66 -2.28\">\n",
       "\n",
       "     <Shape>\n",
       "\n",
       "      <Appearance>\n",
       "\n",
       "       <Material diffuseColor=\"1.000 1.000 1.000\" specularColor=\"0.5 0.5 0.5\">\n",
       "\n",
       "       </Material>\n",
       "\n",
       "      </Appearance>\n",
       "\n",
       "      <Sphere radius=\"0.31\">\n",
       "\n",
       "      </Sphere>\n",
       "\n",
       "     </Shape>\n",
       "\n",
       "    </Transform>\n",
       "\n",
       "    <Transform translation=\"1.07 -0.63 -2.64\">\n",
       "\n",
       "     <Shape>\n",
       "\n",
       "      <Appearance>\n",
       "\n",
       "       <Material diffuseColor=\"1.000 1.000 1.000\" specularColor=\"0.5 0.5 0.5\">\n",
       "\n",
       "       </Material>\n",
       "\n",
       "      </Appearance>\n",
       "\n",
       "      <Sphere radius=\"0.31\">\n",
       "\n",
       "      </Sphere>\n",
       "\n",
       "     </Shape>\n",
       "\n",
       "    </Transform>\n",
       "\n",
       "   </Scene>\n",
       "\n",
       "  </X3D>\n",
       "\n",
       " </body>\n",
       "\n",
       "</html>\n",
       "\n"
      ],
      "text/plain": [
       "<IPython.core.display.HTML object>"
      ]
     },
     "execution_count": 44,
     "metadata": {},
     "output_type": "execute_result"
    }
   ],
   "source": [
    "view(test, viewer='x3d')"
   ]
  },
  {
   "cell_type": "markdown",
   "id": "3a9936cb",
   "metadata": {},
   "source": [
    "#### Listing des infos (fonctions) complémentaires potentiellement interessantes pour une molécule"
   ]
  },
  {
   "cell_type": "code",
   "execution_count": 32,
   "id": "b0b6bd39",
   "metadata": {},
   "outputs": [
    {
     "data": {
      "text/plain": [
       "(19, 19)"
      ]
     },
     "execution_count": 32,
     "metadata": {},
     "output_type": "execute_result"
    }
   ],
   "source": [
    "test.get_all_distances().shape"
   ]
  },
  {
   "cell_type": "code",
   "execution_count": 37,
   "id": "ef34d8cb",
   "metadata": {},
   "outputs": [
    {
     "data": {
      "text/plain": [
       "array([14.007, 12.011, 12.011, 12.011, 12.011, 12.011, 14.007,  1.008,\n",
       "        1.008,  1.008,  1.008,  1.008,  1.008,  1.008,  1.008,  1.008,\n",
       "        1.008,  1.008,  1.008])"
      ]
     },
     "execution_count": 37,
     "metadata": {},
     "output_type": "execute_result"
    }
   ],
   "source": [
    "test.get_masses()"
   ]
  },
  {
   "cell_type": "code",
   "execution_count": 34,
   "id": "d23e4373",
   "metadata": {},
   "outputs": [
    {
     "data": {
      "text/plain": [
       "'C5H12N2'"
      ]
     },
     "execution_count": 34,
     "metadata": {},
     "output_type": "execute_result"
    }
   ],
   "source": [
    "test.get_chemical_formula(mode='hill', empirical=False)"
   ]
  },
  {
   "cell_type": "code",
   "execution_count": 40,
   "id": "519bf0f4",
   "metadata": {},
   "outputs": [
    {
     "data": {
      "text/plain": [
       "19"
      ]
     },
     "execution_count": 40,
     "metadata": {},
     "output_type": "execute_result"
    }
   ],
   "source": [
    "test.get_global_number_of_atoms()"
   ]
  },
  {
   "cell_type": "code",
   "execution_count": 39,
   "id": "4184aa3f",
   "metadata": {},
   "outputs": [
    {
     "data": {
      "text/plain": [
       "array([[ 0.857135,  1.766441,  1.943662],\n",
       "       [ 0.099524,  0.525085,  1.758627],\n",
       "       [-0.233978,  0.294832,  0.290564],\n",
       "       [ 0.740909, -0.375661, -0.628106],\n",
       "       [-0.519742, -1.108375, -0.204441],\n",
       "       [-1.656612, -1.365652, -1.170557],\n",
       "       [ 0.916179,  0.131485, -1.980716],\n",
       "       [ 1.022234,  1.944131,  2.930746],\n",
       "       [ 0.353962,  2.557052,  1.549804],\n",
       "       [-0.841044,  0.528336,  2.354028],\n",
       "       [ 0.698684, -0.314844,  2.141217],\n",
       "       [-0.841061,  1.081979, -0.162159],\n",
       "       [ 1.675159, -0.731132, -0.180879],\n",
       "       [-0.377184, -1.900361,  0.534083],\n",
       "       [-1.740849, -0.565663, -1.903374],\n",
       "       [-2.610844, -1.439292, -0.64818 ],\n",
       "       [-1.507099, -2.299673, -1.712636],\n",
       "       [ 0.103102,  0.661861, -2.28071 ],\n",
       "       [ 1.071134, -0.629252, -2.639089]])"
      ]
     },
     "execution_count": 39,
     "metadata": {},
     "output_type": "execute_result"
    }
   ],
   "source": [
    "test.get_positions()"
   ]
  },
  {
   "cell_type": "code",
   "execution_count": 41,
   "id": "1198e678",
   "metadata": {},
   "outputs": [
    {
     "data": {
      "text/plain": [
       "array([0.02960112, 0.01087163, 0.00017221])"
      ]
     },
     "execution_count": 41,
     "metadata": {},
     "output_type": "execute_result"
    }
   ],
   "source": [
    "test.get_center_of_mass(scaled=False)"
   ]
  },
  {
   "cell_type": "code",
   "execution_count": 51,
   "id": "e5754cfd",
   "metadata": {},
   "outputs": [],
   "source": [
    "test.set_calculator()"
   ]
  },
  {
   "cell_type": "code",
   "execution_count": 56,
   "id": "9c4cd3d4",
   "metadata": {},
   "outputs": [
    {
     "name": "stdout",
     "output_type": "stream",
     "text": [
      "Atoms object has no calculator.\n",
      "Erreur : Necessite de donner un calculateur à la molécule\n"
     ]
    }
   ],
   "source": [
    "# Necessite de donner un calculateur à la molécule\n",
    "try :\n",
    "    test.get_charges()\n",
    "except Exception as e: \n",
    "    print(e)\n",
    "    print(\"Erreur : Necessite de donner un calculateur à la molécule\")"
   ]
  },
  {
   "cell_type": "code",
   "execution_count": 53,
   "id": "8259ed3d",
   "metadata": {},
   "outputs": [],
   "source": [
    "test.euler_rotate(phi=0.0, theta=0.0, psi=0.0, center=(0, 0, 0))"
   ]
  },
  {
   "cell_type": "code",
   "execution_count": 54,
   "id": "2e89ba7b",
   "metadata": {},
   "outputs": [
    {
     "name": "stdout",
     "output_type": "stream",
     "text": [
      "Erreur : Necessite de donner un calculateur à la molécule\n"
     ]
    }
   ],
   "source": [
    "# Necessite de donner un calculateur à la molécule\n",
    "try :\n",
    "    test.get_dipole_moment()\n",
    "except : \n",
    "    print(\"Erreur : Necessite de donner un calculateur à la molécule\")"
   ]
  },
  {
   "cell_type": "code",
   "execution_count": 49,
   "id": "5709f127",
   "metadata": {},
   "outputs": [
    {
     "name": "stdout",
     "output_type": "stream",
     "text": [
      "Erreur : Necessite de donner un calculateur à la molécule\n"
     ]
    }
   ],
   "source": [
    "# Necessite de donner un calculateur à la molécule\n",
    "try :\n",
    "    test.get_forces(apply_constraint=True, md=False)\n",
    "except : \n",
    "    print(\"Erreur : Necessite de donner un calculateur à la molécule\")"
   ]
  },
  {
   "cell_type": "code",
   "execution_count": 50,
   "id": "666545bf",
   "metadata": {},
   "outputs": [
    {
     "data": {
      "text/plain": [
       "array([121.81724473, 305.64416583, 383.56495588])"
      ]
     },
     "execution_count": 50,
     "metadata": {},
     "output_type": "execute_result"
    }
   ],
   "source": [
    "test.get_moments_of_inertia(vectors=False)"
   ]
  },
  {
   "cell_type": "code",
   "execution_count": null,
   "id": "30e5a992",
   "metadata": {},
   "outputs": [],
   "source": [
    "###"
   ]
  }
 ],
 "metadata": {
  "kernelspec": {
   "display_name": "Python 3",
   "language": "python",
   "name": "python3"
  },
  "language_info": {
   "codemirror_mode": {
    "name": "ipython",
    "version": 3
   },
   "file_extension": ".py",
   "mimetype": "text/x-python",
   "name": "python",
   "nbconvert_exporter": "python",
   "pygments_lexer": "ipython3",
   "version": "3.9.7"
  }
 },
 "nbformat": 4,
 "nbformat_minor": 5
}
